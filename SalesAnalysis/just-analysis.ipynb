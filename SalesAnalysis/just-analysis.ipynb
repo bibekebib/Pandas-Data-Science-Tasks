{
 "cells": [
  {
   "cell_type": "markdown",
   "metadata": {},
   "source": [
    "importing libraries\n"
   ]
  },
  {
   "cell_type": "code",
   "execution_count": 1,
   "metadata": {},
   "outputs": [],
   "source": [
    "import pandas as pd \n",
    "import os"
   ]
  },
  {
   "cell_type": "code",
   "execution_count": 2,
   "metadata": {},
   "outputs": [],
   "source": [
    "df = pd.read_csv('./Sales_Data/Sales_April_2019.csv')\n"
   ]
  },
  {
   "cell_type": "code",
   "execution_count": 24,
   "metadata": {},
   "outputs": [],
   "source": [
    "files  = [file for file in os.listdir('./Sales_Data')]\n",
    "all_month_data = pd.DataFrame()\n",
    "for file in files:\n",
    "    df = pd.read_csv('./Sales_Data/'+file)\n",
    "    all_month_data = pd.concat([all_month_data, df])\n",
    "all_month_data.to_csv('all_data.csv', index=False)"
   ]
  },
  {
   "source": [
    "Read in updated dataFrame"
   ],
   "cell_type": "markdown",
   "metadata": {}
  },
  {
   "cell_type": "code",
   "execution_count": 28,
   "metadata": {},
   "outputs": [],
   "source": [
    "all_data = pd.read_csv('all_data.csv')\n"
   ]
  },
  {
   "cell_type": "code",
   "execution_count": 30,
   "metadata": {},
   "outputs": [],
   "source": [
    "# Augment data with additional columns\n"
   ]
  },
  {
   "cell_type": "code",
   "execution_count": 51,
   "metadata": {},
   "outputs": [],
   "source": [
    "\n",
    "all_data = all_data.dropna(how= 'all')\n",
    "nan_df = all_data[all_data.isna().any(axis=1)]\n",
    "nan_df"
   ]
  },
  {
   "cell_type": "code",
   "execution_count": 53,
   "metadata": {},
   "outputs": [],
   "source": [
    "\n",
    "all_data = all_data[all_data['Order Date'].str[0:2] != 'Or']\n",
    "all_data\n",
    "temp_df = all_data[all_data['Order Date'].str[0:2] == 'Or']\n",
    "temp_df"
   ]
  },
  {
   "cell_type": "code",
   "execution_count": null,
   "metadata": {},
   "outputs": [],
   "source": []
  },
  {
   "cell_type": "code",
   "execution_count": null,
   "metadata": {},
   "outputs": [],
   "source": []
  },
  {
   "cell_type": "code",
   "execution_count": null,
   "metadata": {},
   "outputs": [],
   "source": []
  },
  {
   "cell_type": "code",
   "execution_count": null,
   "metadata": {},
   "outputs": [],
   "source": []
  },
  {
   "cell_type": "code",
   "execution_count": 59,
   "metadata": {},
   "outputs": [
    {
     "output_type": "execute_result",
     "data": {
      "text/plain": "  Order ID                     Product Quantity Ordered Price Each  \\\n0   162009                      iPhone                1        700   \n1   162009    Lightning Charging Cable                1      14.95   \n2   162009            Wired Headphones                2      11.99   \n3   162010  Bose SoundSport Headphones                1      99.99   \n4   162011      34in Ultrawide Monitor                1     379.99   \n\n       Order Date                      Purchase Address  Month  \n0  03/28/19 20:59       942 Church St, Austin, TX 73301      3  \n1  03/28/19 20:59       942 Church St, Austin, TX 73301      3  \n2  03/28/19 20:59       942 Church St, Austin, TX 73301      3  \n3  03/17/19 05:39  261 10th St, San Francisco, CA 94016      3  \n4  03/10/19 00:01  764 13th St, San Francisco, CA 94016      3  ",
      "text/html": "<div>\n<style scoped>\n    .dataframe tbody tr th:only-of-type {\n        vertical-align: middle;\n    }\n\n    .dataframe tbody tr th {\n        vertical-align: top;\n    }\n\n    .dataframe thead th {\n        text-align: right;\n    }\n</style>\n<table border=\"1\" class=\"dataframe\">\n  <thead>\n    <tr style=\"text-align: right;\">\n      <th></th>\n      <th>Order ID</th>\n      <th>Product</th>\n      <th>Quantity Ordered</th>\n      <th>Price Each</th>\n      <th>Order Date</th>\n      <th>Purchase Address</th>\n      <th>Month</th>\n    </tr>\n  </thead>\n  <tbody>\n    <tr>\n      <th>0</th>\n      <td>162009</td>\n      <td>iPhone</td>\n      <td>1</td>\n      <td>700</td>\n      <td>03/28/19 20:59</td>\n      <td>942 Church St, Austin, TX 73301</td>\n      <td>3</td>\n    </tr>\n    <tr>\n      <th>1</th>\n      <td>162009</td>\n      <td>Lightning Charging Cable</td>\n      <td>1</td>\n      <td>14.95</td>\n      <td>03/28/19 20:59</td>\n      <td>942 Church St, Austin, TX 73301</td>\n      <td>3</td>\n    </tr>\n    <tr>\n      <th>2</th>\n      <td>162009</td>\n      <td>Wired Headphones</td>\n      <td>2</td>\n      <td>11.99</td>\n      <td>03/28/19 20:59</td>\n      <td>942 Church St, Austin, TX 73301</td>\n      <td>3</td>\n    </tr>\n    <tr>\n      <th>3</th>\n      <td>162010</td>\n      <td>Bose SoundSport Headphones</td>\n      <td>1</td>\n      <td>99.99</td>\n      <td>03/17/19 05:39</td>\n      <td>261 10th St, San Francisco, CA 94016</td>\n      <td>3</td>\n    </tr>\n    <tr>\n      <th>4</th>\n      <td>162011</td>\n      <td>34in Ultrawide Monitor</td>\n      <td>1</td>\n      <td>379.99</td>\n      <td>03/10/19 00:01</td>\n      <td>764 13th St, San Francisco, CA 94016</td>\n      <td>3</td>\n    </tr>\n  </tbody>\n</table>\n</div>"
     },
     "metadata": {},
     "execution_count": 59
    }
   ],
   "source": [
    "all_data['Month'] = all_data['Order Date'].str[0:2]\n",
    "all_data['Month'] = all_data['Month'].astype('int32')\n",
    "all_data.head()"
   ]
  },
  {
   "cell_type": "code",
   "execution_count": null,
   "metadata": {},
   "outputs": [],
   "source": []
  },
  {
   "cell_type": "code",
   "execution_count": null,
   "metadata": {},
   "outputs": [],
   "source": []
  },
  {
   "source": [
    "Q: What was the best month for sales? How much was earned that month?"
   ],
   "cell_type": "markdown",
   "metadata": {}
  },
  {
   "cell_type": "code",
   "execution_count": null,
   "metadata": {},
   "outputs": [],
   "source": []
  }
 ],
 "metadata": {
  "kernelspec": {
   "display_name": "Python 3",
   "language": "python",
   "name": "python3"
  },
  "language_info": {
   "codemirror_mode": {
    "name": "ipython",
    "version": 3
   },
   "file_extension": ".py",
   "mimetype": "text/x-python",
   "name": "python",
   "nbconvert_exporter": "python",
   "pygments_lexer": "ipython3",
   "version": "3.8.2-final"
  }
 },
 "nbformat": 4,
 "nbformat_minor": 2
}